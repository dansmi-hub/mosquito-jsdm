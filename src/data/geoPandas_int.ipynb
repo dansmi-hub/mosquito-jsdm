{
 "cells": [
  {
   "cell_type": "code",
   "execution_count": 19,
   "outputs": [],
   "source": [
    "import geopandas"
   ],
   "metadata": {
    "collapsed": false,
    "pycharm": {
     "name": "#%%\n"
    }
   }
  },
  {
   "cell_type": "code",
   "execution_count": 20,
   "outputs": [
    {
     "name": "stdout",
     "output_type": "stream",
     "text": [
      "Help on package geopandas:\n",
      "\n",
      "NAME\n",
      "    geopandas\n",
      "\n",
      "PACKAGE CONTENTS\n",
      "    _compat\n",
      "    _config\n",
      "    _vectorized\n",
      "    _version\n",
      "    array\n",
      "    base\n",
      "    conftest\n",
      "    datasets (package)\n",
      "    geodataframe\n",
      "    geoseries\n",
      "    io (package)\n",
      "    plotting\n",
      "    sindex\n",
      "    testing\n",
      "    tests (package)\n",
      "    tools (package)\n",
      "\n",
      "DATA\n",
      "    options = Options(\n",
      "      display_precision: None [default: Non...USE_PYGEO...\n",
      "\n",
      "VERSION\n",
      "    0.9.0\n",
      "\n",
      "FILE\n",
      "    /home/daniel/.local/lib/python3.9/site-packages/geopandas/__init__.py\n",
      "\n",
      "\n"
     ]
    }
   ],
   "source": [
    "help(geopandas)"
   ],
   "metadata": {
    "collapsed": false,
    "pycharm": {
     "name": "#%%\n"
    }
   }
  },
  {
   "cell_type": "code",
   "execution_count": 21,
   "outputs": [],
   "source": [
    "mosquito_points = geopandas.read_file(\"../../data/interim/mosquito_points.shp\")\n"
   ],
   "metadata": {
    "collapsed": false,
    "pycharm": {
     "name": "#%%\n"
    }
   }
  },
  {
   "cell_type": "code",
   "execution_count": 22,
   "outputs": [
    {
     "data": {
      "text/plain": "            species  _val  _equ  _zer  _cap  _cen  _sea  _otl  _gbf  _inst  \\\n0     Aedes aegypti     1     1     1     1     1     1     1     1      1   \n1     Aedes aegypti     1     1     1     1     1     1     1     1      1   \n2     Aedes aegypti     1     1     1     1     1     1     1     1      1   \n3     Aedes aegypti     1     1     1     1     1     1     1     1      1   \n4     Aedes aegypti     1     1     1     1     1     1     1     1      1   \n...             ...   ...   ...   ...   ...   ...   ...   ...   ...    ...   \n7469   Aedes vexans     1     1     1     1     1     1     1     1      1   \n7470   Aedes vexans     1     1     1     1     1     1     1     1      1   \n7471   Aedes vexans     1     1     1     1     1     1     1     1      1   \n7472   Aedes vexans     1     1     1     1     1     1     1     1      1   \n7473   Aedes vexans     1     1     1     1     1     1     1     1      1   \n\n      _summary                   geometry  \n0            1  POINT (46.20200 38.86300)  \n1            1  POINT (46.20200 38.86300)  \n2            1  POINT (46.23227 38.91163)  \n3            1  POINT (46.23227 38.91163)  \n4            1  POINT (46.22700 38.92600)  \n...        ...                        ...  \n7469         1  POINT (44.30000 40.30000)  \n7470         1  POINT (44.40000 40.30000)  \n7471         1  POINT (21.40000 38.10000)  \n7472         1  POINT (21.50000 38.10000)  \n7473         1  POINT (35.40000 37.00000)  \n\n[7474 rows x 12 columns]",
      "text/html": "<div>\n<style scoped>\n    .dataframe tbody tr th:only-of-type {\n        vertical-align: middle;\n    }\n\n    .dataframe tbody tr th {\n        vertical-align: top;\n    }\n\n    .dataframe thead th {\n        text-align: right;\n    }\n</style>\n<table border=\"1\" class=\"dataframe\">\n  <thead>\n    <tr style=\"text-align: right;\">\n      <th></th>\n      <th>species</th>\n      <th>_val</th>\n      <th>_equ</th>\n      <th>_zer</th>\n      <th>_cap</th>\n      <th>_cen</th>\n      <th>_sea</th>\n      <th>_otl</th>\n      <th>_gbf</th>\n      <th>_inst</th>\n      <th>_summary</th>\n      <th>geometry</th>\n    </tr>\n  </thead>\n  <tbody>\n    <tr>\n      <th>0</th>\n      <td>Aedes aegypti</td>\n      <td>1</td>\n      <td>1</td>\n      <td>1</td>\n      <td>1</td>\n      <td>1</td>\n      <td>1</td>\n      <td>1</td>\n      <td>1</td>\n      <td>1</td>\n      <td>1</td>\n      <td>POINT (46.20200 38.86300)</td>\n    </tr>\n    <tr>\n      <th>1</th>\n      <td>Aedes aegypti</td>\n      <td>1</td>\n      <td>1</td>\n      <td>1</td>\n      <td>1</td>\n      <td>1</td>\n      <td>1</td>\n      <td>1</td>\n      <td>1</td>\n      <td>1</td>\n      <td>1</td>\n      <td>POINT (46.20200 38.86300)</td>\n    </tr>\n    <tr>\n      <th>2</th>\n      <td>Aedes aegypti</td>\n      <td>1</td>\n      <td>1</td>\n      <td>1</td>\n      <td>1</td>\n      <td>1</td>\n      <td>1</td>\n      <td>1</td>\n      <td>1</td>\n      <td>1</td>\n      <td>1</td>\n      <td>POINT (46.23227 38.91163)</td>\n    </tr>\n    <tr>\n      <th>3</th>\n      <td>Aedes aegypti</td>\n      <td>1</td>\n      <td>1</td>\n      <td>1</td>\n      <td>1</td>\n      <td>1</td>\n      <td>1</td>\n      <td>1</td>\n      <td>1</td>\n      <td>1</td>\n      <td>1</td>\n      <td>POINT (46.23227 38.91163)</td>\n    </tr>\n    <tr>\n      <th>4</th>\n      <td>Aedes aegypti</td>\n      <td>1</td>\n      <td>1</td>\n      <td>1</td>\n      <td>1</td>\n      <td>1</td>\n      <td>1</td>\n      <td>1</td>\n      <td>1</td>\n      <td>1</td>\n      <td>1</td>\n      <td>POINT (46.22700 38.92600)</td>\n    </tr>\n    <tr>\n      <th>...</th>\n      <td>...</td>\n      <td>...</td>\n      <td>...</td>\n      <td>...</td>\n      <td>...</td>\n      <td>...</td>\n      <td>...</td>\n      <td>...</td>\n      <td>...</td>\n      <td>...</td>\n      <td>...</td>\n      <td>...</td>\n    </tr>\n    <tr>\n      <th>7469</th>\n      <td>Aedes vexans</td>\n      <td>1</td>\n      <td>1</td>\n      <td>1</td>\n      <td>1</td>\n      <td>1</td>\n      <td>1</td>\n      <td>1</td>\n      <td>1</td>\n      <td>1</td>\n      <td>1</td>\n      <td>POINT (44.30000 40.30000)</td>\n    </tr>\n    <tr>\n      <th>7470</th>\n      <td>Aedes vexans</td>\n      <td>1</td>\n      <td>1</td>\n      <td>1</td>\n      <td>1</td>\n      <td>1</td>\n      <td>1</td>\n      <td>1</td>\n      <td>1</td>\n      <td>1</td>\n      <td>1</td>\n      <td>POINT (44.40000 40.30000)</td>\n    </tr>\n    <tr>\n      <th>7471</th>\n      <td>Aedes vexans</td>\n      <td>1</td>\n      <td>1</td>\n      <td>1</td>\n      <td>1</td>\n      <td>1</td>\n      <td>1</td>\n      <td>1</td>\n      <td>1</td>\n      <td>1</td>\n      <td>1</td>\n      <td>POINT (21.40000 38.10000)</td>\n    </tr>\n    <tr>\n      <th>7472</th>\n      <td>Aedes vexans</td>\n      <td>1</td>\n      <td>1</td>\n      <td>1</td>\n      <td>1</td>\n      <td>1</td>\n      <td>1</td>\n      <td>1</td>\n      <td>1</td>\n      <td>1</td>\n      <td>1</td>\n      <td>POINT (21.50000 38.10000)</td>\n    </tr>\n    <tr>\n      <th>7473</th>\n      <td>Aedes vexans</td>\n      <td>1</td>\n      <td>1</td>\n      <td>1</td>\n      <td>1</td>\n      <td>1</td>\n      <td>1</td>\n      <td>1</td>\n      <td>1</td>\n      <td>1</td>\n      <td>1</td>\n      <td>POINT (35.40000 37.00000)</td>\n    </tr>\n  </tbody>\n</table>\n<p>7474 rows × 12 columns</p>\n</div>"
     },
     "execution_count": 22,
     "metadata": {},
     "output_type": "execute_result"
    }
   ],
   "source": [
    "mosquito_points"
   ],
   "metadata": {
    "collapsed": false,
    "pycharm": {
     "name": "#%%\n"
    }
   }
  },
  {
   "cell_type": "code",
   "execution_count": 23,
   "outputs": [
    {
     "data": {
      "text/plain": "<geopandas.plotting.GeoplotAccessor object at 0x7f3f093ebbe0>"
     },
     "execution_count": 23,
     "metadata": {},
     "output_type": "execute_result"
    }
   ],
   "source": [
    "mosquito_points.plot"
   ],
   "metadata": {
    "collapsed": false,
    "pycharm": {
     "name": "#%%\n"
    }
   }
  }
 ],
 "metadata": {
  "kernelspec": {
   "display_name": "Python 3",
   "language": "python",
   "name": "python3"
  },
  "language_info": {
   "codemirror_mode": {
    "name": "ipython",
    "version": 2
   },
   "file_extension": ".py",
   "mimetype": "text/x-python",
   "name": "python",
   "nbconvert_exporter": "python",
   "pygments_lexer": "ipython2",
   "version": "2.7.6"
  }
 },
 "nbformat": 4,
 "nbformat_minor": 0
}